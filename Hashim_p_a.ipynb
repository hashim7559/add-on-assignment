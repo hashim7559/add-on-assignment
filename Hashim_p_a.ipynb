{
  "nbformat": 4,
  "nbformat_minor": 0,
  "metadata": {
    "colab": {
      "provenance": []
    },
    "kernelspec": {
      "name": "python3",
      "display_name": "Python 3"
    },
    "language_info": {
      "name": "python"
    }
  },
  "cells": [
    {
      "cell_type": "code",
      "source": [
        "'''2=Write a Python function to find the maximum of three numbers'''\n",
        "n1=int(input('Enter the first number:'))\n",
        "n2=int(input('Enter the second number:'))\n",
        "n3=int(input(\"Enter the therd number:\"))\n",
        "def large(n1,n2,n3):\n",
        "  if n1>n2 and n1>n3:\n",
        "    print(n1,\"is largest number\")\n",
        "  elif n2>n1 and n2>n3:\n",
        "    print(n2,\"is largest number\")\n",
        "  else:\n",
        "    print(n3,\"is largest number\")\n",
        "large(n1,n2,n3)"
      ],
      "metadata": {
        "colab": {
          "base_uri": "https://localhost:8080/"
        },
        "id": "ibtCyiuAKV3b",
        "outputId": "bc9ea419-4569-4820-86a0-7bd4ef72d19c"
      },
      "execution_count": 63,
      "outputs": [
        {
          "output_type": "stream",
          "name": "stdout",
          "text": [
            "Enter the first number:20\n",
            "Enter the second number:30\n",
            "Enter the therd number:50\n",
            "50 is largest number\n"
          ]
        }
      ]
    },
    {
      "cell_type": "code",
      "source": [
        "'''3=Write a Python function called exponent(base,exp) that returns an integer\n",
        "value of base raises to the power of exp. '''\n",
        "\n",
        "def exponent(bace,exp):\n",
        "  return(bace**exp)\n",
        "\n",
        "bace=int(input('Enter the bace value'))\n",
        "exp=int(input(\"Enter the exponent value\"))\n",
        "\n",
        "print(exponent(bace,exp))"
      ],
      "metadata": {
        "colab": {
          "base_uri": "https://localhost:8080/"
        },
        "id": "7nAfFOp9MRO1",
        "outputId": "3247a0ee-4505-40d5-bb79-c84dd88fd98b"
      },
      "execution_count": 38,
      "outputs": [
        {
          "output_type": "stream",
          "name": "stdout",
          "text": [
            "Enter the bace value3\n",
            "Enter the exponent value3\n",
            "27\n"
          ]
        }
      ]
    },
    {
      "cell_type": "code",
      "source": [
        "'''4-Write a Python function that takes a positive integer and returns the sum of\n",
        "the cube of all the positive integers smaller than the specified number'''\n",
        "\n",
        "def cubes(n):\n",
        "    s=sum(i**3 for i in range(n))\n",
        "    return(s)\n",
        "\n",
        "number=int(input(\"Enter the number\"))\n",
        "print(cubes(number))"
      ],
      "metadata": {
        "colab": {
          "base_uri": "https://localhost:8080/"
        },
        "id": "dA1Mb0CEbHyv",
        "outputId": "cea00faf-33d2-4550-cddb-500d15b9ec88"
      },
      "execution_count": 42,
      "outputs": [
        {
          "output_type": "stream",
          "name": "stdout",
          "text": [
            "Enter the number5\n",
            "100\n"
          ]
        }
      ]
    },
    {
      "cell_type": "code",
      "source": [
        "'''5=Write a Python program which iterates from 1 to 10. For multiples of 2, print\n",
        "“Fizz” instead of the number and for the multiples of 5, print “Buzz”. For\n",
        "numbers which are multiples of both 2 and 5, print “FizzBuzz”.'''\n",
        "\n",
        "\n",
        "print('number of 1-10')\n",
        "for i in range(1, 11):\n",
        "    if i % 2 == 0 and i % 5 == 0:\n",
        "        print(\"FizzBuzz\")\n",
        "\n",
        "    elif i % 2 == 0:\n",
        "        print(\"Fizz\")\n",
        "\n",
        "    elif i % 5 == 0:\n",
        "\n",
        "        print(\"Buzz\")\n",
        "\n",
        "    else:\n",
        "        print(i)\n",
        "\n"
      ],
      "metadata": {
        "colab": {
          "base_uri": "https://localhost:8080/"
        },
        "id": "1ILzt9TAqP61",
        "outputId": "28d131cd-e203-4291-ef6d-7057fd43406e"
      },
      "execution_count": 68,
      "outputs": [
        {
          "output_type": "stream",
          "name": "stdout",
          "text": [
            "number of 1-10\n",
            "1\n",
            "Fizz\n",
            "3\n",
            "Fizz\n",
            "Buzz\n",
            "Fizz\n",
            "7\n",
            "Fizz\n",
            "9\n",
            "FizzBuzz\n"
          ]
        }
      ]
    },
    {
      "cell_type": "code",
      "source": [
        "'''6=Write a Python function to find the most frequent item in a list of numbers. '''\n",
        "\n",
        "l1=[2, 3, 4, 2, 5, 2]\n",
        "\n",
        "def frequent(numbers):\n",
        "    freeruent= max(set(numbers), key=numbers.count)\n",
        "    return freeruent\n",
        "\n",
        "print(most_frequent(l1))\n"
      ],
      "metadata": {
        "colab": {
          "base_uri": "https://localhost:8080/"
        },
        "id": "e1-8Mp2ksWf-",
        "outputId": "43ee6def-7e3b-4c22-fb6a-cc76a7d7819d"
      },
      "execution_count": 72,
      "outputs": [
        {
          "output_type": "stream",
          "name": "stdout",
          "text": [
            "2\n"
          ]
        }
      ]
    },
    {
      "cell_type": "code",
      "source": [
        "'''7=Write a Python function to find the sum of squares of the numbers in a list.'''\n",
        "l1=[2,3,4,5,6,7]\n",
        "def sumof(l1):\n",
        "  sum=(l1[0]*l1[0])+(l1[1]*l1[1])+(l1[2]*l1[2])+(l1[3]*l1[3])+(l1[4]*l1[4])+(l1[5]*l1[5])\n",
        "  return(sum)\n",
        "\n",
        "print(\"sum of list items is-\",sumof(l1))"
      ],
      "metadata": {
        "colab": {
          "base_uri": "https://localhost:8080/"
        },
        "id": "E387eokKcU-c",
        "outputId": "ea809b4c-a55b-4544-cd31-ebca6c144644"
      },
      "execution_count": 76,
      "outputs": [
        {
          "output_type": "stream",
          "name": "stdout",
          "text": [
            "sum of list items is- 139\n"
          ]
        }
      ]
    },
    {
      "cell_type": "code",
      "source": [
        "'''8=Write a Python program using for loop that will iterate from 1 to 15. For each iteration, check if the current number is odd or even, and display the message to the screen as odd or even.'''\n",
        "\n",
        "def evenodd(n):\n",
        "   if n%2==0:\n",
        "     n='even'\n",
        "     return n\n",
        "   else:\n",
        "     s='odd'\n",
        "     return s\n",
        "\n",
        "for i in range(1,16):\n",
        "   print(i,'-',evenodd(i))\n",
        "\n"
      ],
      "metadata": {
        "colab": {
          "base_uri": "https://localhost:8080/"
        },
        "id": "UFSRHnouxLUa",
        "outputId": "014ad2ea-b1b6-4b23-a85a-196942bd5bef"
      },
      "execution_count": 77,
      "outputs": [
        {
          "output_type": "stream",
          "name": "stdout",
          "text": [
            "1 - odd\n",
            "2 - even\n",
            "3 - odd\n",
            "4 - even\n",
            "5 - odd\n",
            "6 - even\n",
            "7 - odd\n",
            "8 - even\n",
            "9 - odd\n",
            "10 - even\n",
            "11 - odd\n",
            "12 - even\n",
            "13 - odd\n",
            "14 - even\n",
            "15 - odd\n"
          ]
        }
      ]
    },
    {
      "cell_type": "code",
      "source": [
        "'''10=Write a Python function to calculate the factorial of a number (a nonnegative integer). The function accepts the number as an argument.'''\n",
        "\n",
        "import math\n",
        "number=int(input(\"Enter the number\"))\n",
        "def fact(n):\n",
        "  if n>1:\n",
        "    fact=math.factorial(n)\n",
        "    return fact\n",
        "  else:\n",
        "    return(\"invalead input\")\n",
        "\n",
        "print(fact(number))\n"
      ],
      "metadata": {
        "colab": {
          "base_uri": "https://localhost:8080/"
        },
        "id": "ZLasNoPGxLl_",
        "outputId": "bf79f773-f5e6-4f40-b0d6-d32d3fd78eef"
      },
      "execution_count": 81,
      "outputs": [
        {
          "output_type": "stream",
          "name": "stdout",
          "text": [
            "Enter the number-5\n",
            "invalead input\n"
          ]
        }
      ]
    },
    {
      "cell_type": "markdown",
      "source": [
        "case study"
      ],
      "metadata": {
        "id": "pLetcxEAxqf7"
      }
    },
    {
      "cell_type": "code",
      "source": [
        "'''11='''\n",
        "name=input(\"Enter the name\")\n",
        "assessment=int(input(\"Enter the number of assesment\"))\n",
        "if assessment==1:\n",
        "  type_of_assessment1=input(\"enter the name of assessment1 \")\n",
        "  score_of_assessment1=int(input(\"Enter the score of assessment  1\"))\n",
        "  Weight1=int(input(\"Weight (percentage) of assessment 1 \"))\n",
        "elif assessment==2:\n",
        "  type_of_assessment1=input(\"enter the name of assessment1 \")\n",
        "  score_of_assessment1=int(input(\"Enter the score of assessment 1 \"))\n",
        "  Weight1=int(input(\"Weight (percentage) of assessment 1 \"))\n",
        "  type_of_assessment2=input(\"enter the name of assessment2 \")\n",
        "  score_of_assessment2=int(input(\"Enter the score of assessment 2 \"))\n",
        "  Weight2=int(input(\"Weight (percentage) of assessment 2 \"))\n",
        "elif assessment==3:\n",
        "  type_of_assessment1=input(\"enter the name of assessment1 \")\n",
        "  score_of_assessment1=int(input(\"Enter the score of assessment 1 \"))\n",
        "  Weight1=int(input(\"Weight (percentage) of assessment 1 \"))\n",
        "  type_of_assessment2=input(\"enter the name of assessment2 \")\n",
        "  score_of_assessment2=int(input(\"Enter the score of assessment 2 \"))\n",
        "  Weight2=int(input(\"Weight (percentage) of assessment 2 \"))\n",
        "  type_of_assessment3=input(\"enter the name of assessment3 \")\n",
        "  score_of_assessment3=int(input(\"Enter the score of assessment 3 \"))\n",
        "  Weight3=int(input(\"Weight (percentage) of assessment 3 \"))\n",
        "\n",
        "else:\n",
        "  type_of_assessment1=input(\"enter the name of assessment1 \")\n",
        "  score_of_assessment1=int(input(\"Enter the score of assessment  1 \"))\n",
        "  Weight1=int(input(\"Weight (percentage) of assessment 1 \"))\n",
        "  type_of_assessment2=input(\"enter the name of assessment2 \")\n",
        "  score_of_assessment2=int(input(\"Enter the score of assessment 2 \"))\n",
        "  Weight2=int(input(\"Weight (percentage) of assessment 2 \"))\n",
        "  type_of_assessment3=input(\"enter the name of assessment3 \")\n",
        "  score_of_assessment3=int(input(\"Enter the score of assessment 3 \"))\n",
        "  Weight3=int(input(\"Weight (percentage) of assessment 3 \"))\n",
        "  type_of_assessment4=input(\"enter the name of assessment4 \")\n",
        "  score_of_assessment4=int(input(\"Enter the score of assessment 4 \"))\n",
        "  Weight4=int(input(\"Weight (percentage) of assessment 4 \"))\n",
        "\n",
        "\n",
        "print(name)\n",
        "11\n",
        ""
      ],
      "metadata": {
        "colab": {
          "base_uri": "https://localhost:8080/"
        },
        "id": "wz0ZNHaiyaU-",
        "outputId": "11331191-e477-4bae-cfc2-eed543f15451"
      },
      "execution_count": 89,
      "outputs": [
        {
          "output_type": "stream",
          "name": "stdout",
          "text": [
            "Enter the namehashim\n",
            "Enter the number of assesment2\n",
            "enter the name of assessment1 internal\n",
            "Enter the score of assessment 1 10\n",
            "Weight (percentage) of assessment 1 10\n",
            "enter the name of assessment2 internal\n",
            "Enter the score of assessment 2 10\n",
            "Weight (percentage) of assessment 2 0\n",
            "hashim\n"
          ]
        }
      ]
    }
  ]
}